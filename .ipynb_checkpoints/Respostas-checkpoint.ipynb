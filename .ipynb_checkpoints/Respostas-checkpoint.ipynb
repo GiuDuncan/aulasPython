{
 "cells": [
  {
   "cell_type": "markdown",
   "metadata": {},
   "source": [
    "# RESPOSTAS"
   ]
  },
  {
   "cell_type": "markdown",
   "metadata": {},
   "source": [
    "## Exercicio 2"
   ]
  },
  {
   "cell_type": "code",
   "execution_count": 24,
   "metadata": {
    "collapsed": false
   },
   "outputs": [
    {
     "name": "stdout",
     "output_type": "stream",
     "text": [
      "\n",
      "Primeira Nota: 8\n",
      "\n",
      "Segunda Nota: 6\n",
      "Aprovado\n"
     ]
    }
   ],
   "source": [
    "try: \n",
    "    nota1 = int(input(\"\\nPrimeira Nota: \"))\n",
    "    nota2 = int(input(\"\\nSegunda Nota: \"))\n",
    "except ValueError:\n",
    "    print(\"Você não digitou um número. Por favor, apenas números.\")\n",
    "else:\n",
    "    media = (nota1 + nota2)/2\n",
    "    if media == 10:\n",
    "        print(\"Aprovado com Distinção\")\n",
    "    elif media >= 7:\n",
    "        print(\"Aprovado\")\n",
    "    else:\n",
    "        print(\"Reprovado\")"
   ]
  },
  {
   "cell_type": "markdown",
   "metadata": {},
   "source": [
    "## Exercicio 4"
   ]
  },
  {
   "cell_type": "code",
   "execution_count": 18,
   "metadata": {
    "collapsed": false
   },
   "outputs": [],
   "source": [
    "def mais_votado(dicionario):\n",
    "    maior = 1\n",
    "    for i in dicionario.keys():\n",
    "        if dicionario[i] > dicionario[maior]:\n",
    "            maior = i\n",
    "            \n",
    "    return maior\n",
    "\n",
    "def porcentagem(key, dicionario):\n",
    "    total = 0\n",
    "    for i in dicionario.keys():\n",
    "        total += dicionario[i]\n",
    "    if total == 0:\n",
    "        return 0\n",
    "    else:\n",
    "        return round((dicionario[key]/total) * 100, 2)\n",
    "    "
   ]
  },
  {
   "cell_type": "code",
   "execution_count": 19,
   "metadata": {
    "collapsed": false
   },
   "outputs": [
    {
     "name": "stdout",
     "output_type": "stream",
     "text": [
      " \n",
      "            Escolha um sistema operacional:\n",
      " \n",
      "                1. Windows\n",
      " \n",
      "                2. Unix\n",
      " \n",
      "                3. Linux\n",
      " \n",
      "                4. Netware\n",
      " \n",
      "                5. Mac OS\n",
      " \n",
      "                6. Outro\n",
      " \n",
      "            [digite \"0\" para encerrar a votação]\n",
      "\n",
      "Seu voto: 0\n",
      "\n",
      "Sistema Operacional\tVotos\t%\n",
      "-------------------\t-----\t---\n",
      "\n",
      "Windows\t\t\t0\t0\n",
      "\n",
      "Unix\t\t\t0\t0\n",
      "\n",
      "Linux\t\t\t0\t0\n",
      "\n",
      "Netware\t\t\t0\t0\n",
      "\n",
      "Mac\t\t\t0\t0\n",
      "\n",
      "Outro\t\t\t0\t0\n",
      "\n",
      "-------------------\t-----\n",
      "\n",
      "O Sistema Operacional mais votado foi o Windows, com 0 votos, correspondendo a 0 dos votos.\n"
     ]
    }
   ],
   "source": [
    "contagem = {1: 0, 2: 0, 3: 0, 4: 0 , 5: 0, 6: 0}\n",
    "nomes = {1: \"Windows\", 2: \"Unix\", 3: \"Linux\", 4: \"Netware\", 5: \"Mac\", 6: \"Outro\"}\n",
    "\n",
    "print(''' \n",
    "            Escolha um sistema operacional:\\n \n",
    "                1. Windows\\n \n",
    "                2. Unix\\n \n",
    "                3. Linux\\n \n",
    "                4. Netware\\n \n",
    "                5. Mac OS\\n \n",
    "                6. Outro\\n \n",
    "            [digite \"0\" para encerrar a votação]''')\n",
    "while True:\n",
    "    # Pegar voto (tem que ser inteiro)\n",
    "    try: \n",
    "        voto = int(input(\"\\nSeu voto: \"))\n",
    "    except ValueError:\n",
    "        print(\"Você não digitou um número. Por favor, apenas números.\")\n",
    "        continue\n",
    "    \n",
    "    # Condição de término\n",
    "    if voto == 0:\n",
    "        ganhador = mais_votado(contagem)\n",
    "        print(\"\\nSistema Operacional\\tVotos\\t%\\n-------------------\\t-----\\t---\")\n",
    "        for sistema in nomes.keys():\n",
    "            print(\"\\n%s\\t\\t\\t%s\\t%s\" % \n",
    "                  (nomes[sistema], str(contagem[sistema]), str(porcentagem(sistema, contagem))))\n",
    "        print(\"\\n-------------------\\t-----\")         \n",
    "        print(\"\\nO Sistema Operacional mais votado foi o %s, com %s votos, correspondendo a %s dos votos.\" % \n",
    "              (nomes[ganhador], str(contagem[ganhador]), str(porcentagem(ganhador, contagem))))\n",
    "        \n",
    "        break\n",
    "\n",
    "    # Confirmar que voto é válido\n",
    "    try:\n",
    "        print(\"\\n Escolhido: \" + nomes[voto])\n",
    "    except:\n",
    "        print(\"Escolha inválida. Escolha um valor de 1 a 6 [ou 0 para encerrar a votação]\")\n",
    "        continue\n",
    "   \n",
    "    # Somar voto\n",
    "    contagem[voto] += 1\n",
    "    \n",
    "    \n",
    "    "
   ]
  },
  {
   "cell_type": "code",
   "execution_count": null,
   "metadata": {
    "collapsed": true
   },
   "outputs": [],
   "source": []
  }
 ],
 "metadata": {
  "kernelspec": {
   "display_name": "Python 3",
   "language": "python",
   "name": "python3"
  },
  "language_info": {
   "codemirror_mode": {
    "name": "ipython",
    "version": 3
   },
   "file_extension": ".py",
   "mimetype": "text/x-python",
   "name": "python",
   "nbconvert_exporter": "python",
   "pygments_lexer": "ipython3",
   "version": "3.6.0"
  }
 },
 "nbformat": 4,
 "nbformat_minor": 2
}
